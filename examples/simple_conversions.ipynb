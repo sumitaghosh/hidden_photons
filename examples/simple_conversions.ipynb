{
 "cells": [
  {
   "cell_type": "markdown",
   "source": [
    "Dark photon exclusions for polarized and unpolarized dark photons converted from axion measurements are each in a .mat file.\n",
    "\n",
    "Keys for the data are 'RBF_ueV', 'RBF_chi', 'UF_ueV', 'UF_chi', 'HAYSTAC_ueV', 'HAYSTAC_chi', 'ADMX_ueV', 'ADMX_chi', 'CAPP_ueV', and 'CAPP_chi' to obtain exclusions for dark photons for each of these experiments in the polarized and unpolarized cases. Each case has its own .mat file.\n",
    "\n",
    "The .py file is the Python code used to calculate cos2(theta), the square of the dot product between the dark photon polarization and the axis of the haloscope cavity in the slowly varying polarized case described in the associated manuscript. The code shows how to calculate cos2(theta) using probability, taking the rotation of the earth into account for longer measurements. (If your computer is slow, you can use the find and replace function in your IDE to change all 'block=True' statements to 'block=False' and also change num_pts=50 instead of 500.)\n",
    "\n",
    "To use the .mat file format in Python, use a script like the following:"
   ],
   "metadata": {
    "collapsed": false
   }
  },
  {
   "cell_type": "code",
   "execution_count": null,
   "outputs": [],
   "source": [
    "import matplotlib.pyplot as plt\n",
    "from scipy.io import loadmat\n",
    "\n",
    "mat_file = loadmat('../data/haloscope_exclusions_unpolarized.mat')\n",
    "masses_in_ueV = mat_file['HAYSTAC_ueV'][0]\n",
    "chi_exclusion = mat_file['HAYSTAC_chi'][0]\n",
    "\n",
    "plt.figure()\n",
    "plt.semilogy(masses_in_ueV, chi_exclusion)\n",
    "plt.xlabel('Mass ($\\mu$eV)')\n",
    "plt.ylabel('$\\chi$')\n",
    "plt.title('HAYSTAC unpolarized dark photon exclusions')\n",
    "plt.show()"
   ],
   "metadata": {
    "collapsed": false,
    "pycharm": {
     "is_executing": true
    }
   }
  },
  {
   "cell_type": "markdown",
   "source": [
    "Note that both UF and RBF refer to experiments that used \"magnetic veto\" during their measurements, which means they specifically skipped reporting any signal that stayed on when their haloscope magnet was turned off. This means that their data does not actually have any sensitivity to the hidden photon! So their data is only here for coding reasons, not science reasons."
   ],
   "metadata": {
    "collapsed": false
   }
  }
 ],
 "metadata": {
  "kernelspec": {
   "display_name": "Python 3",
   "language": "python",
   "name": "python3"
  },
  "language_info": {
   "codemirror_mode": {
    "name": "ipython",
    "version": 2
   },
   "file_extension": ".py",
   "mimetype": "text/x-python",
   "name": "python",
   "nbconvert_exporter": "python",
   "pygments_lexer": "ipython2",
   "version": "2.7.6"
  }
 },
 "nbformat": 4,
 "nbformat_minor": 0
}
